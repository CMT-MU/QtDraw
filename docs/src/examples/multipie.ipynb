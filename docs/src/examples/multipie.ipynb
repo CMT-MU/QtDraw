{
 "cells": [
  {
   "cell_type": "code",
   "execution_count": null,
   "metadata": {},
   "outputs": [],
   "source": [
    "#\n",
    "# multipie.ipynb\n",
    "#\n",
    "from qtdraw.core.qtdraw_app import QtDraw\n",
    "\n",
    "# show tag list.\n",
    "def show_list(header, lst):\n",
    "    print(header)\n",
    "    for i in lst:\n",
    "        print(\" \", i)\n",
    "\n",
    "# draw objects.\n",
    "def draw_equivalent(win):\n",
    "    # draw equivalent site, bond, vector, and orbital.\n",
    "    win.mp_add_equivalent_site(\"[1/4,0,1/3]\")\n",
    "    win.mp_add_equivalent_bond(\"[1/4,0,1/3];[0,1/4,2/3]\")\n",
    "    win.mp_add_equivalent_vector(\"Q\", \"[0,0,1]\", \"[1/2,1/2,0]\")\n",
    "    win.mp_add_equivalent_orbital(\"Q\", \"3z**2-r**2\", \"[1/2,1/2,1/2]\")\n",
    "\n",
    "def draw_harmonics(win):\n",
    "    # create harmonics tag, and draw one of them.\n",
    "    lst = win.mp_create_harmonics(\"Q\", 3)\n",
    "    show_list(\"Harmonics:\", lst)\n",
    "    win.mp_add_equivalent_harmonics(lst[0], \"[1/2,1/2,1/4]\")\n",
    "\n",
    "def draw_site(win):\n",
    "    # create site SAMB, and draw one of them.\n",
    "    lst = win.mp_create_basis_site(\"[1/4,0,1/3]\")\n",
    "    show_list(\"site SAMB:\", lst)\n",
    "    win.mp_add_basis_site(lst[1])\n",
    "\n",
    "def draw_bond(win):\n",
    "    # create bond SAMB, and draw one of them.\n",
    "    lst = win.mp_create_basis_bond(\"[1/2,1/2,0]@[1/4,1/4,0]\")\n",
    "    show_list(\"bond SAMB:\", lst)\n",
    "    win.mp_add_basis_bond(lst[3])\n",
    "\n",
    "def draw_vector(win):\n",
    "    # create vector SAMB, and draw one of them.\n",
    "    lst = win.mp_create_basis_vector(\"Q\", \"[1/2, 1/2, 0]\")\n",
    "    show_list(\"vector SAMB:\", lst)\n",
    "    win.mp_add_basis_vector(\"Q02+G02\")\n",
    "\n",
    "def draw_vector_modulation(win):\n",
    "    # create vector SAMB, and draw one of them.\n",
    "    lst = win.mp_create_basis_vector(\"Q\", \"[1/2, 1/2, 0]\")\n",
    "    show_list(\"vector SAMB:\", lst)\n",
    "    win.mp_add_basis_vector_modulation(\"[[Q02, 1, [1,0,0], cos], [Q02, 1, [0,1,0], sin]]\")\n",
    "\n",
    "def draw_orbital(win):\n",
    "    # create orbital SAMB, and draw one of them.\n",
    "    lst = win.mp_create_basis_orbital(\"Q\", 1, \"[0,0,0];[1/2,1/2,0]\")\n",
    "    show_list(\"orital SAMB:\", lst)\n",
    "    win.mp_add_basis_orbital(\"Q02+G02\")\n",
    "\n",
    "def draw_orbital_modulation(win):\n",
    "    # create orbital SAMB, and draw one of them.\n",
    "    lst = win.mp_create_basis_orbital(\"Q\", 1, \"[0,0,0];[1/2,1/2,0]\")\n",
    "    show_list(\"orital SAMB:\", lst)\n",
    "    win.mp_add_basis_orbital_modulation(\"[[Q02, 1, [1,0,0], cos], [Q02, 1, [0,1,0], sin]]\")\n",
    "\n",
    "def draw_hopping(win):\n",
    "    # draw hopping direction.\n",
    "    win.mp_add_basis_hopping(\"[0,0,0];[1/2,1/2,0]\")\n",
    "\n",
    "# === initialization for example ===\n",
    "win = QtDraw() # create QtDraw application.\n",
    "win.mp_set_group(\"D3^4\") # set space/point group by Schoenflies notation."
   ]
  },
  {
   "cell_type": "code",
   "execution_count": 9,
   "metadata": {},
   "outputs": [
    {
     "name": "stdout",
     "output_type": "stream",
     "text": [
      "vector SAMB:\n",
      "  Q01: Q(1,A2,,) = Qa(1,A2,) x Qs(0,A1,)\n",
      "  Q02: Q(1,A2,,) = Qa(1,E,) x Qs(2,E,1)\n",
      "  Q03: Q(1,E,,0) = Qa(1,A2,) x Qs(2,E,1)\n",
      "  Q04: Q(1,E,,0) = Qa(1,E,) x Qs(0,A1,)\n",
      "  Q05: Q(1,E,,1) = Qa(1,A2,) x Qs(2,E,1)\n",
      "  Q06: Q(1,E,,1) = Qa(1,E,) x Qs(0,A1,)\n",
      "  G01: G(2,A1,,) = Qa(1,E,) x Qs(2,E,1)\n",
      "  G02: G(2,E,2,0) = Qa(1,E,) x Qs(2,E,1)\n",
      "  G03: G(2,E,2,1) = Qa(1,E,) x Qs(2,E,1)\n"
     ]
    }
   ],
   "source": [
    "# === example ===\n",
    "win.clear_data()\n",
    "# draw_equivalent(win)\n",
    "# draw_harmonics(win)\n",
    "# draw_site(win)\n",
    "# draw_bond(win)\n",
    "# draw_vector(win)\n",
    "# draw_orbital(win)\n",
    "# draw_hopping(win)\n",
    "draw_vector_modulation(win)\n",
    "# draw_orbital_modulation(win)"
   ]
  }
 ],
 "metadata": {
  "kernelspec": {
   "display_name": "Python 3",
   "language": "python",
   "name": "python3"
  },
  "language_info": {
   "codemirror_mode": {
    "name": "ipython",
    "version": 3
   },
   "file_extension": ".py",
   "mimetype": "text/x-python",
   "name": "python",
   "nbconvert_exporter": "python",
   "pygments_lexer": "ipython3",
   "version": "3.12.5"
  }
 },
 "nbformat": 4,
 "nbformat_minor": 2
}
