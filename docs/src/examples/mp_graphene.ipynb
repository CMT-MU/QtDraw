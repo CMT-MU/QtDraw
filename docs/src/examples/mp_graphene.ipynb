{
 "cells": [
  {
   "cell_type": "code",
   "execution_count": 1,
   "metadata": {},
   "outputs": [],
   "source": [
    "#\n",
    "# mp_graphene.ipynb\n",
    "#\n",
    "from qtdraw.core.qtdraw_app import QtDraw\n",
    "\n",
    "# initialization.\n",
    "win = QtDraw() # create QtDraw application.\n",
    "win.mp_set_group(\"D6h^1\") # set space group.\n",
    "win.set_model(\"graphene\") # set model name.\n",
    "\n",
    "# draw equivalent sites and bonds.\n",
    "win.mp_add_site(\"[1/3,2/3,0]\")\n",
    "win.mp_add_bond(\"[2/3,1/3,0];[1/3,2/3,0]\")\n",
    "\n",
    "# set range, repeat, and convert to nonrepeat.\n",
    "win.set_range([0,0,0],[2,2,0.1])\n",
    "win.set_repeat(True)\n",
    "win.set_nonrepeat()\n",
    "\n",
    "# draw vortex-like M-dipole structure.\n",
    "lst = win.mp_create_vector_samb(\"M\", \"[1/3,2/3,0]\")\n",
    "win.mp_add_vector_samb_modulation(\"[[M03, sqrt(3)/6, [0,1/2,0], cos], [M02, 1/4, [1/2,0,0], cos], [M03, sqrt(3)/12, [1/2,0,0], cos], [M04, sqrt(3)/12, [1/2,1/2,0], cos], [M05, 1/4, [1/2,1/2,0], cos]]\")\n",
    "\n",
    "# set cell and view.\n",
    "win.set_cell(\"all\")\n",
    "win.set_view([0,0,1])"
   ]
  }
 ],
 "metadata": {
  "kernelspec": {
   "display_name": "Python 3",
   "language": "python",
   "name": "python3"
  },
  "language_info": {
   "codemirror_mode": {
    "name": "ipython",
    "version": 3
   },
   "file_extension": ".py",
   "mimetype": "text/x-python",
   "name": "python",
   "nbconvert_exporter": "python",
   "pygments_lexer": "ipython3",
   "version": "3.12.8"
  }
 },
 "nbformat": 4,
 "nbformat_minor": 2
}
