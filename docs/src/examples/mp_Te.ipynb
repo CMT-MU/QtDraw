{
 "cells": [
  {
   "cell_type": "code",
   "execution_count": 1,
   "metadata": {},
   "outputs": [],
   "source": [
    "#\n",
    "# mp_Te.ipynb\n",
    "#\n",
    "from qtdraw.core.qtdraw_app import QtDraw\n",
    "\n",
    "# initialization.\n",
    "win = QtDraw() # create QtDraw application.\n",
    "win.mp_set_group(\"D3^4\") # set space group.\n",
    "win.set_model(\"Te\") # set model name.\n",
    "win.set_unit_cell({\"a\":4.458, \"c\":5.925})\n",
    "\n",
    "# draw site and bond.\n",
    "r = 0.2740\n",
    "site = f\"[{r},0,1/3]\"\n",
    "bond = f\"[{r},0,1/3];[0,{r},2/3]\"\n",
    "win.mp_add_site(site, scale=5.0)\n",
    "win.mp_add_bond(bond, scale=4.0)\n",
    "\n",
    "# draw E-quadrupole SAMB (G3-A1 type).\n",
    "lst = win.mp_create_orbital_samb(\"Q\", 2, bond)\n",
    "win.mp_add_orbital_samb(\"G04\", scale=5.0)\n",
    "\n",
    "# set range, repeat, and convert to nonrepeat.\n",
    "win.set_range([-0.5,-0.5,0],[0.5,0.5,1.0])\n",
    "win.set_repeat(True)\n",
    "win.set_clip(True)\n",
    "\n",
    "# set cell and view.\n",
    "win.set_cell(\"off\")\n",
    "win.set_view()"
   ]
  }
 ],
 "metadata": {
  "kernelspec": {
   "display_name": "Python 3",
   "language": "python",
   "name": "python3"
  },
  "language_info": {
   "codemirror_mode": {
    "name": "ipython",
    "version": 3
   },
   "file_extension": ".py",
   "mimetype": "text/x-python",
   "name": "python",
   "nbconvert_exporter": "python",
   "pygments_lexer": "ipython3",
   "version": "3.12.8"
  }
 },
 "nbformat": 4,
 "nbformat_minor": 2
}
