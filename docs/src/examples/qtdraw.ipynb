{
 "cells": [
  {
   "cell_type": "code",
   "execution_count": 2,
   "metadata": {},
   "outputs": [],
   "source": [
    "#\n",
    "# qtdraw.ipynb\n",
    "#\n",
    "from qtdraw.core.qtdraw_app import QtDraw\n",
    "\n",
    "# draw all objects as demonstration.\n",
    "def draw(win: QtDraw):\n",
    "    win.update_preference(\"label\",\"default_check\",True)\n",
    "\n",
    "    win.add_site(position=\"[0,0,0]\", label=\"site\")\n",
    "    win.add_bond(position=\"[3,0,0]\", label=\"bond\")\n",
    "    win.add_vector(position=\"[6,0,0]\", label=\"vector\")\n",
    "    win.add_orbital(position=\"[0,3,0]\", size=0.7, label=\"orbital\")\n",
    "    win.add_stream(position=\"[3,3,0]\", size=0.7, label=\"stream\")\n",
    "    win.add_line(position=\"[6,3,0]\", label=\"line\", arrow1=True, arrow2=True)\n",
    "    win.add_plane(position=\"[0,6,0]\", label=\"plane\")\n",
    "    win.add_circle(position=\"[3,6,0]\", label=\"circle\")\n",
    "    win.add_torus(position=\"[6,6,0]\", label=\"torus\")\n",
    "    win.add_ellipsoid(position=\"[0,0,5]\", label=\"ellipsoid\")\n",
    "    win.add_toroid(position=\"[3,0,5]\", label=\"toroid\")\n",
    "    win.add_box(position=\"[6,0,5]\", label=\"box\")\n",
    "    win.add_polygon(position=\"[0,3,5]\", label=\"polygon\")\n",
    "    win.add_spline(position=\"[3,3,5]\", label=\"spline\", arrow1=True)\n",
    "    win.add_spline_t(position=\"[6,3,5]\", label=\"spline_t\", arrow1=True)\n",
    "    win.add_text3d(position=\"[0,6,5]\", label=\"text3d\")\n",
    "    win.add_caption(position=\"[[3,6,5],[6,6,5]]\",caption=\"[cap. 1,cap. 2]\")\n",
    "    win.add_text2d(caption=\"text2d\")\n",
    "\n",
    "    win.add_plane(position=\"[3,3,-0.3]\",x_size=10,y_size=10,opacity=0.1)\n",
    "    win.add_plane(position=\"[3,3,4.7]\",x_size=10,y_size=10,opacity=0.1)\n",
    "\n",
    "    win.set_view()\n",
    "\n",
    "# === example (QtDraw application) ===\n",
    "win = QtDraw() # create QtDraw application.\n",
    "draw(win) # draw all objects."
   ]
  }
 ],
 "metadata": {
  "kernelspec": {
   "display_name": "Python 3",
   "language": "python",
   "name": "python3"
  },
  "language_info": {
   "codemirror_mode": {
    "name": "ipython",
    "version": 3
   },
   "file_extension": ".py",
   "mimetype": "text/x-python",
   "name": "python",
   "nbconvert_exporter": "python",
   "pygments_lexer": "ipython3",
   "version": "3.12.8"
  }
 },
 "nbformat": 4,
 "nbformat_minor": 2
}
