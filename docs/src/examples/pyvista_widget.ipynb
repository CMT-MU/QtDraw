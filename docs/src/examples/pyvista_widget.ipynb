{
 "cells": [
  {
   "cell_type": "code",
   "execution_count": 1,
   "metadata": {},
   "outputs": [],
   "source": [
    "#\n",
    "# pyvista_widget.ipynb\n",
    "#\n",
    "from qtdraw.util.qt_event_util import get_qt_application\n",
    "from qtdraw.core.pyvista_widget import create_qtdraw_file, PyVistaWidget\n",
    "\n",
    "# callback function to draw all objects.\n",
    "def draw(widget: PyVistaWidget):\n",
    "    widget.update_preference(\"label\",\"default_check\",True)\n",
    "\n",
    "    widget.add_site(position=\"[0,0,0]\", label=\"site\")\n",
    "    widget.add_bond(position=\"[3,0,0]\", label=\"bond\")\n",
    "    widget.add_vector(position=\"[6,0,0]\", label=\"vector\")\n",
    "    widget.add_orbital(position=\"[0,3,0]\",size=0.7, label=\"orbital\")\n",
    "    widget.add_stream(position=\"[3,3,0]\", size=0.7, label=\"stream\")\n",
    "    widget.add_line(position=\"[6,3,0]\", label=\"line\", arrow1=True, arrow2=True)\n",
    "    widget.add_plane(position=\"[0,6,0]\", label=\"plane\")\n",
    "    widget.add_circle(position=\"[3,6,0]\", label=\"circle\")\n",
    "    widget.add_torus(position=\"[6,6,0]\", label=\"torus\")\n",
    "    widget.add_ellipsoid(position=\"[0,0,5]\", label=\"ellipsoid\")\n",
    "    widget.add_toroid(position=\"[3,0,5]\", label=\"toroid\")\n",
    "    widget.add_box(position=\"[6,0,5]\", label=\"box\")\n",
    "    widget.add_polygon(position=\"[0,3,5]\", label=\"polygon\")\n",
    "    widget.add_spline(position=\"[3,3,5]\", label=\"spline\", arrow1=True)\n",
    "    widget.add_spline_t(position=\"[6,3,5]\", label=\"spline_t\", arrow1=True)\n",
    "    widget.add_text3d(position=\"[0,6,5]\", label=\"text3d\")\n",
    "    widget.add_caption(position=\"[[3,6,5],[6,6,5]]\",caption=\"[cap. 1,cap. 2]\")\n",
    "    widget.add_text2d(caption=\"text2d\")\n",
    "\n",
    "    widget.add_plane(position=\"[3,3,-0.3]\",x_size=10,y_size=10,opacity=0.1)\n",
    "    widget.add_plane(position=\"[3,3,4.7]\",x_size=10,y_size=10,opacity=0.1)\n",
    "\n",
    "    widget.set_view()\n",
    "\n",
    "# === example 1 (create qtdw file as background) ===\n",
    "def ex1():\n",
    "    create_qtdraw_file(filename=\"example_output.qtdw\", callback=draw)\n",
    "\n",
    "# === example 2 (create widget) ===\n",
    "def ex2():\n",
    "    get_qt_application() # create Qt event loop.\n",
    "    widget = PyVistaWidget() # create PyVista widget.\n",
    "    draw(widget) # draw all objects.\n",
    "    widget.show() # show widget.\n",
    "\n",
    "# ex1()\n",
    "ex2()"
   ]
  }
 ],
 "metadata": {
  "kernelspec": {
   "display_name": "Python 3",
   "language": "python",
   "name": "python3"
  },
  "language_info": {
   "codemirror_mode": {
    "name": "ipython",
    "version": 3
   },
   "file_extension": ".py",
   "mimetype": "text/x-python",
   "name": "python",
   "nbconvert_exporter": "python",
   "pygments_lexer": "ipython3",
   "version": "3.11.7"
  }
 },
 "nbformat": 4,
 "nbformat_minor": 2
}
